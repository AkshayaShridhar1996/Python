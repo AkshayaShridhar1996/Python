{
 "cells": [
  {
   "cell_type": "code",
   "execution_count": 2,
   "id": "8730f79e",
   "metadata": {},
   "outputs": [
    {
     "name": "stdout",
     "output_type": "stream",
     "text": [
      "First Python assignment\n"
     ]
    }
   ],
   "source": [
    "a = (\"First Python assignment\")\n",
    "print(a)"
   ]
  },
  {
   "cell_type": "code",
   "execution_count": 3,
   "id": "5a8e6595",
   "metadata": {},
   "outputs": [
    {
     "name": "stdout",
     "output_type": "stream",
     "text": [
      "First Python assignment done on 20th May 2021\n"
     ]
    }
   ],
   "source": [
    "a = \"First Python assignment done on 20th May 2021\"\n",
    "print(a)"
   ]
  },
  {
   "cell_type": "code",
   "execution_count": 7,
   "id": "f30c5110",
   "metadata": {},
   "outputs": [
    {
     "name": "stdout",
     "output_type": "stream",
     "text": [
      "Hey Sara! Would you study python along with me?\n"
     ]
    }
   ],
   "source": [
    "n = \"Sara\"\n",
    "print(\"Hey\"+\" \"+n+\"!\"+\" \"+\"Would you study python along with me?\")"
   ]
  },
  {
   "cell_type": "code",
   "execution_count": 32,
   "id": "11603d8f",
   "metadata": {},
   "outputs": [
    {
     "name": "stdout",
     "output_type": "stream",
     "text": [
      "Swami Vivekanandaonce said,\"Arise,awake and donot stop until the goal is reached.\"\n"
     ]
    }
   ],
   "source": [
    "q = \"\\\"Arise,awake and donot stop until the goal is reached.\\\"\"\n",
    "q1 = \"Swami Vivekananda\"\n",
    "print(q1+ \"once said,\"+ q)"
   ]
  },
  {
   "cell_type": "code",
   "execution_count": 33,
   "id": "9eeca1ac",
   "metadata": {},
   "outputs": [
    {
     "name": "stdout",
     "output_type": "stream",
     "text": [
      "Swami Vivekanandaonce said,\"Arise,awake and donot stop until the goal is reached.\"\n"
     ]
    }
   ],
   "source": [
    "message = \"\\\"Arise,awake and donot stop until the goal is reached.\\\"\"\n",
    "famous_person = \"Swami Vivekananda\"\n",
    "print(famous_person+ \"once said,\"+ message)"
   ]
  },
  {
   "cell_type": "code",
   "execution_count": 36,
   "id": "0f3975d7",
   "metadata": {},
   "outputs": [
    {
     "name": "stdout",
     "output_type": "stream",
     "text": [
      "8\n",
      "8\n",
      "8\n",
      "8\n"
     ]
    }
   ],
   "source": [
    "print(4+4)\n",
    "print(19-11)\n",
    "print(2*2*2)\n",
    "print(int(64/8))"
   ]
  },
  {
   "cell_type": "code",
   "execution_count": 37,
   "id": "84515259",
   "metadata": {},
   "outputs": [
    {
     "name": "stdout",
     "output_type": "stream",
     "text": [
      "My favorite number is: 28\n"
     ]
    }
   ],
   "source": [
    "favV = 28\n",
    "print(\"My favorite number is:\",favV)"
   ]
  },
  {
   "cell_type": "code",
   "execution_count": 38,
   "id": "e898f882",
   "metadata": {},
   "outputs": [
    {
     "name": "stdout",
     "output_type": "stream",
     "text": [
      "My favorite quote is:\n",
      "Swami Vivekanandaonce said,\"Arise,awake and donot stop until the goal is reached.\"\n"
     ]
    }
   ],
   "source": [
    "print(\"My favorite quote is:\")\n",
    "message = \"\\\"Arise,awake and donot stop until the goal is reached.\\\"\"\n",
    "famous_person = \"Swami Vivekananda\"\n",
    "print(famous_person+ \"once said,\"+ message)"
   ]
  },
  {
   "cell_type": "code",
   "execution_count": 39,
   "id": "7d3cd3c0",
   "metadata": {},
   "outputs": [
    {
     "name": "stdout",
     "output_type": "stream",
     "text": [
      "Not all similar answers have the same question\n",
      "8\n",
      "8\n",
      "8\n",
      "8\n"
     ]
    }
   ],
   "source": [
    "print(\"Not all similar answers have the same question\")\n",
    "print(4+4)\n",
    "print(19-11)\n",
    "print(2*2*2)\n",
    "print(int(64/8))"
   ]
  },
  {
   "cell_type": "code",
   "execution_count": 3,
   "id": "f84546db",
   "metadata": {},
   "outputs": [
    {
     "name": "stdout",
     "output_type": "stream",
     "text": [
      "Sara\n",
      "Gowtham\n",
      "Anjana\n",
      "Shradha\n"
     ]
    }
   ],
   "source": [
    "F = ['Sara','Gowtham','Anjana','Shradha']\n",
    "for i in F:\n",
    "    print(i)"
   ]
  },
  {
   "cell_type": "code",
   "execution_count": 4,
   "id": "182a0ca1",
   "metadata": {},
   "outputs": [
    {
     "name": "stdout",
     "output_type": "stream",
     "text": [
      "Sara is my best friend\n",
      "Gowtham is my best friend\n",
      "Anjana is my best friend\n",
      "Shradha is my best friend\n"
     ]
    }
   ],
   "source": [
    "F = ['Sara','Gowtham','Anjana','Shradha']\n",
    "for i in F:\n",
    "    print(F\"{i} is my best friend\")"
   ]
  },
  {
   "cell_type": "code",
   "execution_count": 16,
   "id": "2322799a",
   "metadata": {},
   "outputs": [
    {
     "name": "stdout",
     "output_type": "stream",
     "text": [
      "Honda is one of my favorite cars\n",
      "Hyundai is one of my favorite cars\n",
      "Audi is one of my favorite cars\n",
      "Maruti is one of my favorite cars\n"
     ]
    }
   ],
   "source": [
    "F = ['Honda','Hyundai','Audi','Maruti']\n",
    "for i in F:\n",
    "    print(F\"{i} is one of my favorite cars\")"
   ]
  },
  {
   "cell_type": "code",
   "execution_count": null,
   "id": "2156a49a",
   "metadata": {},
   "outputs": [],
   "source": []
  }
 ],
 "metadata": {
  "kernelspec": {
   "display_name": "Python 3",
   "language": "python",
   "name": "python3"
  },
  "language_info": {
   "codemirror_mode": {
    "name": "ipython",
    "version": 3
   },
   "file_extension": ".py",
   "mimetype": "text/x-python",
   "name": "python",
   "nbconvert_exporter": "python",
   "pygments_lexer": "ipython3",
   "version": "3.8.8"
  }
 },
 "nbformat": 4,
 "nbformat_minor": 5
}
